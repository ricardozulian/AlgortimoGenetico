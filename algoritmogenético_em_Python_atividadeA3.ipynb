{
  "cells": [
    {
      "cell_type": "code",
      "execution_count": null,
      "metadata": {
        "id": "KQA9PPOuEfKa"
      },
      "outputs": [],
      "source": [
        "'''\n",
        "Introdução à Inteligência Artificial - Aula 3 - Aplicando conhecimento\n",
        "Prof. André Kishimoto\n",
        "Algoritmos Genéticos\n",
        "Possível solução realizada em \"Fri Apr  20 2025 06:11:00 \"\n",
        "@author1: HUMBERTO GUTTAU BRAVO - 10423914\n",
        "@author2: RICARDO ZULIAN DE SOUZA AMARAL - 10433651\n",
        "\n",
        "'''\n",
        "\n",
        "from __future__ import annotations\n",
        "import random as rd\n"
      ]
    },
    {
      "cell_type": "code",
      "execution_count": 65,
      "metadata": {
        "id": "pgx17Ik4EwI6"
      },
      "outputs": [],
      "source": [
        "class Individuo:\n",
        "    def __init__(self):\n",
        "        self.x = gerar_bits(13)\n",
        "        self.y = gerar_bits(13)\n",
        "        self.fitness = self.calcula_fitness()\n",
        "# Primeiro vou fazer o init declarando as variáveis x e y e fitness.\n",
        "# vou usar o rand para gerar bits em uma função separada\n",
        "    def calcula_fitness(self):\n",
        "        x_real = self.bits_para_real(self.x)\n",
        "        y_real = self.bits_para_real(self.y)\n",
        "        return -x_real**2 - y_real**2 + 6*x_real + 4*y_real\n",
        "\n",
        "    def bits_para_real(self, bits): ## transformar bits em real\n",
        "        inteiro = int(\"\".join(map(str, bits)), 2)\n",
        "        return inteiro / 1000\n",
        "\n",
        "class Populacao:\n",
        "    def __init__(self, tamanho_populacao):\n",
        "        self.tamanho_populacao = tamanho_populacao\n",
        "        self.populacao = [Individuo() for _ in range(tamanho_populacao)] ## gerador automático de população.\n",
        "\n",
        "    def ordenar_por_fitness(self):\n",
        "      self.populacao.sort(key=lambda ind: ind.fitness, reverse=True) ## para fazer elitismo preciso selecionar os melhores de cada geração, para isso preciso dar 'sort'\n",
        "\n",
        "    def selecionar_pais(self, proporcao_elite=0.05):\n",
        "        ## aqui eu seleciono os melhores 5% — na apostila dizia entre 2 e 5%\n",
        "        ## acredito que ao selecionar 5% melhora a dispersibilidade da minha população.\n",
        "      self.ordenar_por_fitness()  ## uso a função de sort para poder pegar os 5% melhores\n",
        "      n = max(2, int(self.tamanho_populacao * proporcao_elite))\n",
        "      ## max(2, ...) garante pelo menos 2 pais, evitando erro que estava dando de só ter 1 pai dependendo do tamanho (5% de 19 por exemplo ...)\n",
        "      ## tentei fazer com max(1, ...) mas se tiver só 1 pai a população acaba se clonando\n",
        "      return self.populacao[:n]  ## slice da população elite\n",
        "\n",
        "def cruzamento(pai1, pai2):\n",
        "    # Ponto fixo de cruzamento: 6 bits do pai1 + 7 bits do pai2 ou mãe\n",
        "    pontoCruz = len(pai1.x) - 7\n",
        "\n",
        "    filhox = pai1.x[:pontoCruz] + pai2.x[pontoCruz:]\n",
        "    filhoy = pai1.y[:pontoCruz] + pai2.y[pontoCruz:]\n",
        "\n",
        "    return filhox, filhoy\n",
        "\n",
        "## agora vou fazer a de mutação, ela vai ter 1% de chance de mutar.\n",
        "def mutacao(individuo, taxa_mutacao=0.01):\n",
        "    for i in range(len(individuo.x)):\n",
        "        if rd.random() < taxa_mutacao:\n",
        "            individuo.x[i] = 1 - individuo.x[i]\n",
        "    for i in range(len(individuo.y)):\n",
        "        if rd.random() < taxa_mutacao:\n",
        "            individuo.y[i] = 1 - individuo.y[i]\n",
        "\n",
        "\n",
        "\n",
        "\n",
        "\n",
        "\n",
        "def gerar_bits(n_bits=13):\n",
        "  numero = rd.getrandbits(n_bits)\n",
        "  bin_str = format(numero, f'0{n_bits}b')  # ex: '0101011101101'\n",
        "  return [int(bit) for bit in bin_str]     # lista: [0, 1, 0, 1 ... eu não sei se está certo, mas acredito que a list funciona.\n",
        "## Pensei em colocar dentro do individuo, mas como é uma função que só vamos usar na primeira geração acredito seria perda de memória colocar dentro da classe\n",
        "\n",
        "def nova_geracao(pop, taxa_mutacao=0.03, proporcao_elite=0.05):\n",
        "    elite = pop.selecionar_pais(proporcao_elite)\n",
        "    nova_pop = elite.copy()\n",
        "\n",
        "    while len(nova_pop) < pop.tamanho_populacao:\n",
        "        pai1, pai2 = rd.sample(elite, 2)\n",
        "        filhox, filhoy = cruzamento(pai1, pai2)\n",
        "\n",
        "        filho = Individuo()\n",
        "        filho.x = filhox\n",
        "        filho.y = filhoy\n",
        "        mutacao(filho, taxa_mutacao)\n",
        "        filho.fitness = filho.calcula_fitness()\n",
        "\n",
        "        nova_pop.append(filho)\n",
        "\n",
        "    pop.populacao = nova_pop\n",
        "\n",
        "\n",
        "\n",
        "\n",
        "def main():\n",
        "    pop = Populacao(1000)\n",
        "    geracoes = 50\n",
        "\n",
        "    for g in range(geracoes):\n",
        "        melhor = pop.populacao[0]\n",
        "        for individuo in pop.populacao:\n",
        "            if individuo.fitness > melhor.fitness:\n",
        "                melhor = individuo\n",
        "        print(f\"Geração {g}: Melhor fitness = {melhor.fitness:.4f} | x = {melhor.bits_para_real(melhor.x):.3f}, y = {melhor.bits_para_real(melhor.y):.3f}\")\n",
        "\n",
        "        if abs(melhor.fitness - 13.000) < 1e-4: ## tive que adicionar redundâcia, depois de vários testes falho mesmo dando 13, descobri que pode ter pequenas diferenças e por isso precisa de redundância.\n",
        "            print(f\"Solução ótima encontrada. fitness: {melhor.fitness:.4f}\")\n",
        "            break\n",
        "\n",
        "        nova_geracao(pop, taxa_mutacao=0.01)\n",
        "\n",
        "\n",
        "\n",
        "\n"
      ]
    },
    {
      "cell_type": "code",
      "execution_count": 72,
      "metadata": {
        "colab": {
          "base_uri": "https://localhost:8080/"
        },
        "id": "_Lswr-CiiBk9",
        "outputId": "deccc785-044a-4f39-d5c2-01720d621901"
      },
      "outputs": [
        {
          "name": "stdout",
          "output_type": "stream",
          "text": [
            "Geração 0: Melhor fitness = 12.9973 | x = 3.030, y = 1.958\n",
            "Geração 1: Melhor fitness = 12.9998 | x = 3.006, y = 1.989\n",
            "Geração 2: Melhor fitness = 12.9999 | x = 3.010, y = 2.001\n",
            "Geração 3: Melhor fitness = 13.0000 | x = 2.998, y = 2.005\n",
            "Solução ótima encontrada. fitness: 13.0000\n"
          ]
        }
      ],
      "source": [
        "main()"
      ]
    }
  ],
  "metadata": {
    "colab": {
      "authorship_tag": "ABX9TyPrRkxdg0zniFgI/LY/hsSO",
      "provenance": []
    },
    "kernelspec": {
      "display_name": "Python 3",
      "name": "python3"
    },
    "language_info": {
      "name": "python"
    }
  },
  "nbformat": 4,
  "nbformat_minor": 0
}
